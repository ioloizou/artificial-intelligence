{
 "cells": [
  {
   "cell_type": "markdown",
   "metadata": {},
   "source": [
    "# QUESTIONS\n",
    "\n",
    "\n",
    "\n",
    "1.   For each model:\n",
    "\n",
    "*   What happens inside the fit function?\n",
    "*   What happens in the predict function?\n",
    "*   How is the chosen performance score computed?\n",
    "*   What criteria is being optimized?\n",
    "\n",
    "\n",
    "2.   For the **linear regression** example and keeping the size of the test set fixed, \n",
    "\n",
    "*   What is the effect on the (test) performance when we progressively increase the amount of training data? Try with a single feature at a time. Plot the score vs the number of training points and discuss. \n",
    "\n",
    "\n",
    "*   What is the effect of using other variables other than the  'bmi' during training?, try training and testing on other single features. Is it using more information always better? Progressively add new features to the data matrix. Plot the score vs the number of features\n",
    "\n",
    "3. Are the **Naive Bayes and the KNN Classifiers**  affected by scaling in the features? Use the ``standardScaler``\n",
    "from scikit learn ``from sklearn import preprocessing `` before the fit function and compare the results\n",
    "\n",
    "4. **Train/Test or Train/Val/Test** In the above examples, we have split each dataset into two subsets each. Are two subsets (train and test) enough for the three models (lin reg,  NaiveBayes,KNN,)? Answer for each model. Which models would benefit from having a validation set?\n",
    "\n",
    "5.   Repeat the KNN example, but splitting the dataset into three subsets(train,val,test). Progressively modify the hyperparameter k.  What is the best neighborhood size k?, what is the appropriate methodologogy to find this number? \n",
    "6.   How do we know if learning was really succesful (vs underfitting or overfitting?)\n",
    "\n",
    "8.   Naive Bayesian classifiers are probabilistic classifiers. How do we recover the probabilistic information associated to this model? What quantities can we recover?\n",
    "\n",
    "9.   For the **classification methods**:\n",
    "- Which are Discriminative? Generative?\n",
    "- Can the method deal with non-linearly separable data?\n",
    "- Is the method suitable for multiclass classification problems?\n",
    "\n",
    "\n",
    "\n",
    "**BONUS**\n",
    "Implement your own version of the three algorithms and compare the results to the built-in functions "
   ]
  },
  {
   "cell_type": "markdown",
   "metadata": {},
   "source": [
    "# Linear Regression\n",
    "\n",
    "**What happens inside the fit function of linear regression in scikit-learn?**\n",
    "\n",
    "The fit function of linear regression in scikit-learn uses the ordinary least squares (OLS) method to find the best-fit line to the data. OLS works by minimizing the sum of the squared residuals, which are the differences between the actual target values and the predicted target values.\n",
    "\n",
    "The following steps are performed inside the fit function:\n",
    "\n",
    "1. The mean and standard deviation of the input features are calculated.\n",
    "2. The input features are normalized by subtracting the mean and dividing by the standard deviation.\n",
    "3. A pseudoinverse of the input features is calculated.\n",
    "4. The model coefficients are calculated by multiplying the pseudoinverse of the input features by the target values.\n",
    "\n",
    "**What happens in the predict function of linear regression in scikit-learn?**\n",
    "\n",
    "The predict function of linear regression in scikit-learn takes as input a set of normalized input features and predicts the target values for those input features.\n",
    "\n",
    "The following steps are performed inside the predict function:\n",
    "\n",
    "1. The input features are multiplied by the model coefficients.\n",
    "2. The intercept is added to the product of the input features and the model coefficients.\n",
    "3. The predicted target values are returned.\n",
    "\n",
    "**How is the chosen performance score computed?**\n",
    "\n",
    "The chosen performance score for linear regression in scikit-learn is the coefficient of determination (R²). R² is a measure of how well the model explains the variance in the target variable.\n",
    "\n",
    "R² is calculated as follows:\n",
    "\n",
    "R² = 1 - (RSS / TSS)\n",
    "where:\n",
    "\n",
    "RSS is the residual sum of squares, which is the sum of the squared residuals.\n",
    "TSS is the total sum of squares, which is the sum of the squared deviations of the target variable from its mean.\n",
    "R² ranges from 0 to 1, with higher values indicating a better fit.\n",
    "\n",
    "**What criteria is being optimized?**\n",
    "\n",
    "The criteria being optimized in linear regression is the sum of the squared residuals. The fit function tries to find the model coefficients that minimize the sum of the squared residuals.\n",
    "\n",
    "This means that the model is trying to find the best-fit line to the data, where the best-fit line is the line that is closest to the actual data points."
   ]
  },
  {
   "cell_type": "markdown",
   "metadata": {},
   "source": [
    "# Naive Bayes\n",
    "**What happens inside the fit function?**\n",
    "The fit function of Naive Bayes in scikit-learn calculates the prior probabilities of each class and the conditional probabilities of each feature value given each class.\n",
    "\n",
    "The prior probabilities of each class are calculated by counting the number of instances of each class in the training data and dividing by the total number of instances in the training data.\n",
    "\n",
    "The conditional probabilities of each feature value given each class are calculated using Bayes' theorem. Bayes' theorem states that the probability of event A happening given that event B has already happened is equal to the probability of event B happening given that event A has already happened times the probability of event A happening divided by the probability of event B happening.\n",
    "\n",
    "In the context of Naive Bayes, event A is a feature value and event B is a class. For example, the conditional probability of the feature value \"male\" given the class \"spam\" would be calculated as follows:\n",
    "\n",
    "P(feature=\"male\" | class=\"spam\") = P(class=\"spam\" | feature=\"male\") * P(feature=\"male\") / P(class=\"spam\")\n",
    "\n",
    "where:\n",
    "* P(feature=\"male\" | class=\"spam\") is the conditional probability of the feature value \"male\" given the class \"spam\".\n",
    "* P(class=\"spam\" | feature=\"male\") is the probability of the class \"spam\" given the feature value \"male\".\n",
    "* P(feature=\"male\") is the prior probability of the feature value \"male\".\n",
    "* P(class=\"spam\") is the prior probability of the class \"spam\".\n",
    "**What happens in the predict function?**\n",
    "The predict function of Naive Bayes in scikit-learn takes as input a set of feature values and predicts the most likely class for those feature values.\n",
    "\n",
    "The predict function works by calculating the posterior probability of each class given the feature values. The posterior probability of a class is the probability of that class happening given the feature values.\n",
    "\n",
    "The posterior probability of each class is calculated using Bayes' theorem. The predict function then returns the class with the highest posterior probability.\n",
    "**How is the chosen performance score computed?**\n",
    "The chosen performance score for Naive Bayes in scikit-learn is the accuracy. Accuracy is the percentage of instances that the model correctly predicts.\n",
    "\n",
    "Accuracy is calculated as follows:\n",
    "\n",
    "accuracy = (number of correct predictions) / (total number of predictions)\n",
    "**What criteria is being optimized?**\n",
    "\n",
    "The criteria being optimized in Naive Bayes is the maximum likelihood. Maximum likelihood means that the model is trying to find the parameters that maximize the probability of the training data.\n",
    "\n",
    "In Naive Bayes, the parameters are the prior probabilities of each class and the conditional probabilities of each feature value given each class.\n",
    "\n",
    "The fit function tries to find the values of these parameters that maximize the probability of the training data. This is done using an iterative algorithm called the expectation-maximization (EM) algorithm"
   ]
  },
  {
   "cell_type": "markdown",
   "metadata": {},
   "source": [
    "# KNN classifiers\n",
    "\n",
    "**What happens inside the fit function?**\n",
    "The fit function of the KNN classifier in scikit-learn stores the training data in memory. This is necessary because the KNN classifier needs to compare new data points to all of the training data points to make predictions.\n",
    "\n",
    "The fit function also takes the following parameters:\n",
    "\n",
    "* n_neighbors: The number of neighbors to use when making predictions.\n",
    "* weights: A list of weights to assign to each neighbor. By default, all neighbors are given equal weight.\n",
    "* algorithm: The algorithm to use to find the nearest neighbors. The available algorithms are auto, ball_tree, kd_tree, and brute.\n",
    "\n",
    "**What happens in the predict function?**\n",
    "The predict function of the KNN classifier in scikit-learn takes a new data point as input and predicts the class of that data point.\n",
    "\n",
    "The predict function works by finding the K nearest neighbors of the new data point in the training data. The K nearest neighbors are the data points in the training data that are most similar to the new data point.\n",
    "\n",
    "Once the K nearest neighbors have been found, the KNN classifier predicts the class of the new data point by taking the majority vote of the K nearest neighbors.\n",
    "\n",
    "**How is the chosen performance score computed?**\n",
    "The chosen performance score for the KNN classifier in scikit-learn is the accuracy. Accuracy is the percentage of instances that the model correctly predicts.\n",
    "\n",
    "Accuracy is calculated as follows:\n",
    "\n",
    "accuracy = (number of correct predictions) / (total number of predictions)\n",
    "\n",
    "**What criteria is being optimized?**\n",
    "The criteria being optimized in the KNN classifier is the accuracy. The fit function does not optimize the accuracy directly, but it does store the training data in memory in a way that makes it efficient to find the nearest neighbors of new data points."
   ]
  },
  {
   "cell_type": "markdown",
   "metadata": {},
   "source": [
    "# Coding part\n",
    "2.   For the **linear regression** example and keeping the size of the test set fixed, \n",
    "\n",
    "*   What is the effect on the (test) performance when we progressively increase the amount of training data? Try with a single feature at a time. Plot the score vs the number of training points and discuss. "
   ]
  },
  {
   "cell_type": "code",
   "execution_count": 1,
   "metadata": {},
   "outputs": [
    {
     "name": "stdout",
     "output_type": "stream",
     "text": [
      "Coefficients: \n",
      " [938.23786125]\n",
      "Mean squared error: 2548.07\n",
      "Coefficient of determination: 0.47\n"
     ]
    },
    {
     "data": {
      "image/png": "[encoded data removed]",
      "text/plain": [
       "<Figure size 640x480 with 1 Axes>"
      ]
     },
     "metadata": {},
     "output_type": "display_data"
    }
   ],
   "source": [
    "import matplotlib.pyplot as plt\n",
    "import numpy as np\n",
    "\n",
    "from sklearn import datasets, linear_model\n",
    "from sklearn.metrics import mean_squared_error, r2_score\n",
    "\n",
    "# Load the diabetes dataset\n",
    "diabetes_X, diabetes_y = datasets.load_diabetes(return_X_y=True)\n",
    "\n",
    "# Use only one feature\n",
    "diabetes_X = diabetes_X[:, np.newaxis, 2]\n",
    "\n",
    "# Split the data into training/testing sets\n",
    "diabetes_X_train = diabetes_X[:-20]\n",
    "diabetes_X_test = diabetes_X[-20:]\n",
    "\n",
    "# Split the targets into training/testing sets\n",
    "diabetes_y_train = diabetes_y[:-20]\n",
    "diabetes_y_test = diabetes_y[-20:]\n",
    "\n",
    "# Create linear regression object\n",
    "regr = linear_model.LinearRegression()\n",
    "\n",
    "# Train the model using the training sets\n",
    "regr.fit(diabetes_X_train, diabetes_y_train)\n",
    "\n",
    "# Make predictions using the testing set\n",
    "diabetes_y_pred = regr.predict(diabetes_X_test)\n",
    "\n",
    "# The coefficients\n",
    "print(\"Coefficients: \\n\", regr.coef_)\n",
    "# The mean squared error\n",
    "print(\"Mean squared error: %.2f\" % mean_squared_error(diabetes_y_test, diabetes_y_pred))\n",
    "# The coefficient of determination: 1 is perfect prediction\n",
    "print(\"Coefficient of determination: %.2f\" % r2_score(diabetes_y_test, diabetes_y_pred))\n",
    "\n",
    "# Plot outputs\n",
    "plt.scatter(diabetes_X_test, diabetes_y_test, color=\"black\")\n",
    "plt.plot(diabetes_X_test, diabetes_y_pred, color=\"blue\", linewidth=3)\n",
    "\n",
    "plt.xticks(())\n",
    "plt.yticks(())\n",
    "\n",
    "plt.show()"
   ]
  },
  {
   "cell_type": "code",
   "execution_count": 2,
   "metadata": {},
   "outputs": [
    {
     "data": {
      "text/plain": [
       "(442, 1)"
      ]
     },
     "execution_count": 2,
     "metadata": {},
     "output_type": "execute_result"
    }
   ],
   "source": []
  },
  {
   "cell_type": "code",
   "execution_count": null,
   "metadata": {},
   "outputs": [],
   "source": []
  }
 ],
 "metadata": {
  "kernelspec": {
   "display_name": "Python 3",
   "language": "python",
   "name": "python3"
  },
  "language_info": {
   "codemirror_mode": {
    "name": "ipython",
    "version": 3
   },
   "file_extension": ".py",
   "mimetype": "text/x-python",
   "name": "python",
   "nbconvert_exporter": "python",
   "pygments_lexer": "ipython3",
   "version": "3.11.6"
  }
 },
 "nbformat": 4,
 "nbformat_minor": 2
}
