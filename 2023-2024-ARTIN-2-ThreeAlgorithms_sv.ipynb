{
 "cells": [
  {
   "cell_type": "markdown",
   "metadata": {
    "id": "FQB6jUVevZRb"
   },
   "source": [
    "# Three learning algorithms\n",
    "\n",
    "**Author: Diana Mateus**\n"
   ]
  },
  {
   "cell_type": "markdown",
   "metadata": {
    "id": "alKP72LX0DnN"
   },
   "source": [
    "\n",
    "Scikit-learn is a very popular Machine Learning library for Python. In this notebook we will study how to put in practice three simple machine learning models \n",
    "\n",
    "*   Linear Regression (regression)\n",
    "*   Naive Bayes (classification)\n",
    "*   K-nearest neighbors (classification)\n",
    "\n",
    "using scikit-learn:\n",
    "\n",
    "\n",
    "**GOALS**: \n",
    "\n",
    "*   Understanding the purpose of data splitting in Machine Learning\n",
    "*   Experimenting with the train, val and test functionalities of the scikit library\n",
    "*   Evaluating a binary classification or a regression ML approach\n"
   ]
  },
  {
   "cell_type": "markdown",
   "metadata": {
    "id": "h7l9znFXqw3h"
   },
   "source": [
    "## 0. Importing Modules and Data"
   ]
  },
  {
   "cell_type": "markdown",
   "metadata": {
    "id": "ZenxGyVbwq46"
   },
   "source": [
    "Run the following lines to load the modules required for this lab."
   ]
  },
  {
   "cell_type": "code",
   "execution_count": 2,
   "metadata": {
    "id": "Vy_xMsgDq0jx"
   },
   "outputs": [],
   "source": [
    "import numpy as np #scientific computing (in ML it handles and operates on multi-dimensional arrays)\n",
    "import matplotlib.pyplot as plt #for data visualization\n",
    "import sklearn #for Machine Learning\n"
   ]
  },
  {
   "cell_type": "markdown",
   "metadata": {
    "id": "GeEfQr-WraKX"
   },
   "source": [
    "# Loading and Splitting Data\n",
    "\n",
    "Remember that the objective of a Supervised Machine Learning methods is\n",
    "\n",
    "*   to learn from examples\n",
    "*   how to make predictions\n",
    "*   for unseen data!!! \n",
    "\n",
    "That is, to **generalize** to unseen data (i.e. generalize to i.i.d sampled data from the same distribution as the train examples)\n",
    "\n",
    "To train a supervised learning model we need an annotated dataset. The dataset is often denoted with a matrix $\\mathbf{X}$ of dimensions $N\\times D$, with $N$ the number of points/samples and $D$ the dimensionality of the feature vector describing *one* sample.\n",
    "\n",
    "We need part of the data to train the model parameters. Moreover, if the model has hyperparameters (non trainable parameters) their tunning should be done on a different subset of the data. Finally, to verify that the model generalises well, it is important to evaluate its performance on unseen data (not used for training nor validation). For the above reasons necessary to split the data matrix into three groups:\n",
    "*  **Training set** : used to fit the model parameters.\n",
    "*  **Validation set** : used to set the model hyper-parameters.\n",
    "*  **Test set** : used only after training and validation have been finished to evaluate the performance of the method.\n",
    "\n",
    "For real life problems is important to reduce the use of the test set to its minimum, to improve generalization.\n",
    "\n",
    "Next we will upload TWO datasets, one for regression and one for classification."
   ]
  },
  {
   "cell_type": "markdown",
   "metadata": {
    "id": "9zyK0InZ2N3b"
   },
   "source": [
    "## Dataset for Regression\n",
    "\n",
    "Load and explore the diabetes dataset"
   ]
  },
  {
   "cell_type": "code",
   "execution_count": 3,
   "metadata": {
    "colab": {
     "base_uri": "https://localhost:8080/"
    },
    "id": "VvOQNAjS0aGJ",
    "outputId": "9f8205f7-888c-4fd2-a94f-205a4c25c3bb"
   },
   "outputs": [
    {
     "name": "stdout",
     "output_type": "stream",
     "text": [
      "The full data matrix has shape (442, 10)\n",
      "Dimension of the feature vector ['age', 'sex', 'bmi', 'bp', 's1', 's2', 's3', 's4', 's5', 's6']\n",
      "Dimension of the target value (442,)\n"
     ]
    }
   ],
   "source": [
    "#scikit already provides access to some common databases\n",
    "from sklearn import datasets \n",
    "diabetes = datasets.load_diabetes() \n",
    "\n",
    "\n",
    "# Print the main information about the dataset\n",
    "print('The full data matrix has shape',diabetes.data.shape)\n",
    "print('Dimension of the feature vector', diabetes.feature_names)\n",
    "print('Dimension of the target value',diabetes.target.shape)\n",
    "\n",
    "# Explore on your own the dimensions of the dataset and their meaning. \n",
    "#print(diabetes.DESCR) #Comment/Uncomment to see the dataset description\n"
   ]
  },
  {
   "cell_type": "code",
   "execution_count": 4,
   "metadata": {
    "colab": {
     "base_uri": "https://localhost:8080/",
     "height": 424
    },
    "id": "K8RBZW9P9HcN",
    "outputId": "8b2c4e1b-c7d0-4619-faa1-0385233be551"
   },
   "outputs": [
    {
     "data": {
      "image/png": "[encoded data removed]",
      "text/plain": [
       "<Figure size 800x400 with 10 Axes>"
      ]
     },
     "metadata": {},
     "output_type": "display_data"
    }
   ],
   "source": [
    "#Visualize the attributes histograms\n",
    "count=1\n",
    "fig=plt.figure(figsize=(10, 5), dpi=80)\n",
    "for i in range(diabetes.data.shape[1]):\n",
    "  plt.subplot(2,5,count)\n",
    "  plt.hist(diabetes.data[:,i],bins=30)\n",
    "  plt.title(diabetes.feature_names[i])\n",
    "  count+=1\n",
    "fig.tight_layout(pad=.4)\n",
    "\n",
    "plt.show()"
   ]
  },
  {
   "cell_type": "code",
   "execution_count": 5,
   "metadata": {
    "colab": {
     "base_uri": "https://localhost:8080/"
    },
    "id": "LP6vfmm_zUej",
    "outputId": "496f21a0-de47-4452-c1bd-21cd356ee2d1"
   },
   "outputs": [
    {
     "name": "stdout",
     "output_type": "stream",
     "text": [
      "Dimension of the feature matrix (442, 1)\n",
      "Dimension of the target value (442,)\n"
     ]
    }
   ],
   "source": [
    "# Choose how many features/attributes will you consider for each data point (patient)\n",
    "X = diabetes.data[:, np.newaxis, 2] #for one feature\n",
    "#X = diabetes.data[:, 2:3] #if you need more features\n",
    "\n",
    "# Look at the target values too\n",
    "y = diabetes.target\n",
    "\n",
    "# Check the shapes of the retain data and target matrices\n",
    "print('Dimension of the feature matrix', X.shape)\n",
    "print('Dimension of the target value',y.shape)\n"
   ]
  },
  {
   "cell_type": "markdown",
   "metadata": {
    "id": "7W0eGxuL4taX"
   },
   "source": [
    "#### Create a function for splitting the dataset into train and test"
   ]
  },
  {
   "cell_type": "code",
   "execution_count": 6,
   "metadata": {
    "colab": {
     "base_uri": "https://localhost:8080/"
    },
    "id": "IRYBPKoXtRNg",
    "outputId": "20b76628-5f94-4ac0-bcb7-b9b2038152ac"
   },
   "outputs": [
    {
     "name": "stdout",
     "output_type": "stream",
     "text": [
      "Naive Split\n",
      "X train (398, 1)\n",
      "X test (44, 1)\n",
      "y train (398,)\n",
      "y test (44,)\n",
      "Less Naive Split\n",
      "X train (398, 1)\n",
      "X test (44, 1)\n",
      "y train (398,)\n",
      "y test (44,)\n"
     ]
    }
   ],
   "source": [
    "# Spliting the data matrix by hand for illustration only. \n",
    "# Sklearn has an in_built train_test_split() function\n",
    "\n",
    "def naive_split_data (X,y,split_index):\n",
    "    X_train = X[:-split_index]\n",
    "    X_test = X[-split_index:]\n",
    "    y_train = y[:-split_index]\n",
    "    y_test = y[-split_index:] \n",
    "    return X_train,X_test,y_train,y_test\n",
    "\n",
    "def split_data(data, target, test_ratio):\n",
    "    shuffled_indices = np.random.permutation(len(data)) #is better to permute the data before the split\n",
    "    test_set_size = int(len(data) * test_ratio) #and to compute directly the split in terms of the proportion\n",
    "    test_indices = shuffled_indices[:test_set_size]\n",
    "    train_indices = shuffled_indices[test_set_size:]\n",
    "    return data[train_indices,:], data[test_indices,:],target[train_indices],target[test_indices]\n",
    "\n",
    "X_train, X_test, y_train, y_test = naive_split_data(X,y,44)\n",
    "\n",
    "#check the resultant sizes\n",
    "print ('Naive Split')\n",
    "print('X train', X_train.shape)\n",
    "print('X test',X_test.shape)\n",
    "print('y train',y_train.shape)\n",
    "print('y test',y_test.shape)\n",
    "\n",
    "\n",
    "X_train, X_test, y_train, y_test = split_data(X,y,0.1)\n",
    "\n",
    "print ('Less Naive Split')\n",
    "#check the resultant sizes\n",
    "print('X train', X_train.shape)\n",
    "print('X test',X_test.shape)\n",
    "print('y train',y_train.shape)\n",
    "print('y test',y_test.shape)\n",
    "\n"
   ]
  },
  {
   "cell_type": "markdown",
   "metadata": {
    "id": "ZBlpHylU7cbZ"
   },
   "source": [
    "## Datasets for Classification\n",
    "\n",
    "Load and explore the breast_cancer dataset"
   ]
  },
  {
   "cell_type": "code",
   "execution_count": 7,
   "metadata": {
    "colab": {
     "base_uri": "https://localhost:8080/"
    },
    "id": "GwPqKKx8rZ2U",
    "outputId": "cd5daae5-e3b3-45b0-9ec1-085b5ece0015"
   },
   "outputs": [
    {
     "name": "stdout",
     "output_type": "stream",
     "text": [
      "['malignant' 'benign']\n",
      "(569,)\n",
      "['mean radius' 'mean texture' 'mean perimeter' 'mean area'\n",
      " 'mean smoothness' 'mean compactness' 'mean concavity'\n",
      " 'mean concave points' 'mean symmetry' 'mean fractal dimension'\n",
      " 'radius error' 'texture error' 'perimeter error' 'area error'\n",
      " 'smoothness error' 'compactness error' 'concavity error'\n",
      " 'concave points error' 'symmetry error' 'fractal dimension error'\n",
      " 'worst radius' 'worst texture' 'worst perimeter' 'worst area'\n",
      " 'worst smoothness' 'worst compactness' 'worst concavity'\n",
      " 'worst concave points' 'worst symmetry' 'worst fractal dimension']\n",
      "(569, 30)\n",
      ".. _breast_cancer_dataset:\n",
      "\n",
      "Breast cancer wisconsin (diagnostic) dataset\n",
      "--------------------------------------------\n",
      "\n",
      "**Data Set Characteristics:**\n",
      "\n",
      "    :Number of Instances: 569\n",
      "\n",
      "    :Number of Attributes: 30 numeric, predictive attributes and the class\n",
      "\n",
      "    :Attribute Information:\n",
      "        - radius (mean of distances from center to points on the perimeter)\n",
      "        - texture (standard deviation of gray-scale values)\n",
      "        - perimeter\n",
      "        - area\n",
      "        - smoothness (local variation in radius lengths)\n",
      "        - compactness (perimeter^2 / area - 1.0)\n",
      "        - concavity (severity of concave portions of the contour)\n",
      "        - concave points (number of concave portions of the contour)\n",
      "        - symmetry\n",
      "        - fractal dimension (\"coastline approximation\" - 1)\n",
      "\n",
      "        The mean, standard error, and \"worst\" or largest (mean of the three\n",
      "        worst/largest values) of these features were computed for each image,\n",
      "        resulting in 30 features.  For instance, field 0 is Mean Radius, field\n",
      "        10 is Radius SE, field 20 is Worst Radius.\n",
      "\n",
      "        - class:\n",
      "                - WDBC-Malignant\n",
      "                - WDBC-Benign\n",
      "\n",
      "    :Summary Statistics:\n",
      "\n",
      "    ===================================== ====== ======\n",
      "                                           Min    Max\n",
      "    ===================================== ====== ======\n",
      "    radius (mean):                        6.981  28.11\n",
      "    texture (mean):                       9.71   39.28\n",
      "    perimeter (mean):                     43.79  188.5\n",
      "    area (mean):                          143.5  2501.0\n",
      "    smoothness (mean):                    0.053  0.163\n",
      "    compactness (mean):                   0.019  0.345\n",
      "    concavity (mean):                     0.0    0.427\n",
      "    concave points (mean):                0.0    0.201\n",
      "    symmetry (mean):                      0.106  0.304\n",
      "    fractal dimension (mean):             0.05   0.097\n",
      "    radius (standard error):              0.112  2.873\n",
      "    texture (standard error):             0.36   4.885\n",
      "    perimeter (standard error):           0.757  21.98\n",
      "    area (standard error):                6.802  542.2\n",
      "    smoothness (standard error):          0.002  0.031\n",
      "    compactness (standard error):         0.002  0.135\n",
      "    concavity (standard error):           0.0    0.396\n",
      "    concave points (standard error):      0.0    0.053\n",
      "    symmetry (standard error):            0.008  0.079\n",
      "    fractal dimension (standard error):   0.001  0.03\n",
      "    radius (worst):                       7.93   36.04\n",
      "    texture (worst):                      12.02  49.54\n",
      "    perimeter (worst):                    50.41  251.2\n",
      "    area (worst):                         185.2  4254.0\n",
      "    smoothness (worst):                   0.071  0.223\n",
      "    compactness (worst):                  0.027  1.058\n",
      "    concavity (worst):                    0.0    1.252\n",
      "    concave points (worst):               0.0    0.291\n",
      "    symmetry (worst):                     0.156  0.664\n",
      "    fractal dimension (worst):            0.055  0.208\n",
      "    ===================================== ====== ======\n",
      "\n",
      "    :Missing Attribute Values: None\n",
      "\n",
      "    :Class Distribution: 212 - Malignant, 357 - Benign\n",
      "\n",
      "    :Creator:  Dr. William H. Wolberg, W. Nick Street, Olvi L. Mangasarian\n",
      "\n",
      "    :Donor: Nick Street\n",
      "\n",
      "    :Date: November, 1995\n",
      "\n",
      "This is a copy of UCI ML Breast Cancer Wisconsin (Diagnostic) datasets.\n",
      "https://goo.gl/U2Uwz2\n",
      "\n",
      "Features are computed from a digitized image of a fine needle\n",
      "aspirate (FNA) of a breast mass.  They describe\n",
      "characteristics of the cell nuclei present in the image.\n",
      "\n",
      "Separating plane described above was obtained using\n",
      "Multisurface Method-Tree (MSM-T) [K. P. Bennett, \"Decision Tree\n",
      "Construction Via Linear Programming.\" Proceedings of the 4th\n",
      "Midwest Artificial Intelligence and Cognitive Science Society,\n",
      "pp. 97-101, 1992], a classification method which uses linear\n",
      "programming to construct a decision tree.  Relevant features\n",
      "were selected using an exhaustive search in the space of 1-4\n",
      "features and 1-3 separating planes.\n",
      "\n",
      "The actual linear program used to obtain the separating plane\n",
      "in the 3-dimensional space is that described in:\n",
      "[K. P. Bennett and O. L. Mangasarian: \"Robust Linear\n",
      "Programming Discrimination of Two Linearly Inseparable Sets\",\n",
      "Optimization Methods and Software 1, 1992, 23-34].\n",
      "\n",
      "This database is also available through the UW CS ftp server:\n",
      "\n",
      "ftp ftp.cs.wisc.edu\n",
      "cd math-prog/cpo-dataset/machine-learn/WDBC/\n",
      "\n",
      "|details-start|\n",
      "**References**\n",
      "|details-split|\n",
      "\n",
      "- W.N. Street, W.H. Wolberg and O.L. Mangasarian. Nuclear feature extraction \n",
      "  for breast tumor diagnosis. IS&T/SPIE 1993 International Symposium on \n",
      "  Electronic Imaging: Science and Technology, volume 1905, pages 861-870,\n",
      "  San Jose, CA, 1993.\n",
      "- O.L. Mangasarian, W.N. Street and W.H. Wolberg. Breast cancer diagnosis and \n",
      "  prognosis via linear programming. Operations Research, 43(4), pages 570-577, \n",
      "  July-August 1995.\n",
      "- W.H. Wolberg, W.N. Street, and O.L. Mangasarian. Machine learning techniques\n",
      "  to diagnose breast cancer from fine-needle aspirates. Cancer Letters 77 (1994) \n",
      "  163-171.\n",
      "\n",
      "|details-end|\n"
     ]
    }
   ],
   "source": [
    "from sklearn.datasets import load_breast_cancer\n",
    "data = load_breast_cancer()\n",
    "\n",
    "label_names = data['target_names']\n",
    "labels = data['target']\n",
    "feature_names = data['feature_names']\n",
    "features = data['data']\n",
    "\n",
    "print(label_names)\n",
    "print(labels.shape)\n",
    "print(feature_names)\n",
    "print(features.shape)\n",
    "\n",
    "print(data.DESCR) #Comment/Uncomment to see or hide the full dataset description"
   ]
  },
  {
   "cell_type": "code",
   "execution_count": 8,
   "metadata": {
    "colab": {
     "base_uri": "https://localhost:8080/",
     "height": 572
    },
    "id": "hVgkKPnuXGDU",
    "outputId": "8f0cfa40-d48b-4ed2-deb5-5d5edd0f3a8e"
   },
   "outputs": [
    {
     "data": {
      "image/png": "[encoded data removed]",
      "text/plain": [
       "<Figure size 900x540 with 30 Axes>"
      ]
     },
     "metadata": {},
     "output_type": "display_data"
    }
   ],
   "source": [
    "#Visualize the attributes histograms\n",
    "\n",
    "count=1\n",
    "fig=plt.figure(figsize=(10, 6), dpi=90)\n",
    "for i in range(features.shape[1]):\n",
    "  plt.subplot(4,8,count)\n",
    "  plt.hist(features[:,i],bins=30)\n",
    "  plt.title(feature_names[i],fontsize=7)\n",
    "  count+=1\n",
    "fig.tight_layout(pad=0.1)\n",
    "\n",
    "plt.show()"
   ]
  },
  {
   "cell_type": "markdown",
   "metadata": {
    "id": "sPalBpIgwq5E"
   },
   "source": [
    "### Dataset splitting"
   ]
  },
  {
   "cell_type": "markdown",
   "metadata": {
    "id": "TIUzLntuwq5F"
   },
   "source": [
    "The following scikit function splits the dataset into train and test"
   ]
  },
  {
   "cell_type": "code",
   "execution_count": 9,
   "metadata": {
    "colab": {
     "base_uri": "https://localhost:8080/"
    },
    "id": "_nRhb-PHruH9",
    "outputId": "d713cdc9-966b-4624-da68-d0fde2214eea"
   },
   "outputs": [
    {
     "name": "stdout",
     "output_type": "stream",
     "text": [
      "Scikit Split\n",
      "X2 train (341, 30)\n",
      "X2 test (228, 30)\n",
      "y2 train (341,)\n",
      "y2 test (228,)\n"
     ]
    }
   ],
   "source": [
    "from sklearn.model_selection import train_test_split\n",
    "\n",
    "X2_train, X2_test, y2_train, y2_test = train_test_split(features,labels,test_size = 0.40, random_state = 42)\n",
    "\n",
    "print ('Scikit Split')\n",
    "#check the resultant sizes\n",
    "print('X2 train', X2_train.shape)\n",
    "print('X2 test',X2_test.shape)\n",
    "print('y2 train',y2_train.shape)\n",
    "print('y2 test',y2_test.shape)"
   ]
  },
  {
   "cell_type": "markdown",
   "metadata": {
    "id": "S8bb5p0PqVv0"
   },
   "source": [
    "# 1. Training a ML model\n",
    "\n",
    "When relying with on the scikit library, training a model is very simple. You  need to:\n",
    "*   Load the model from scikit\n",
    "*   Declare a new instance of the model \n",
    "*   Train the model parameters\n",
    "*   Make predictions for new data\n",
    "*   Evaluate the performance\n",
    "\n",
    "Identify in the example code the above steps\n"
   ]
  },
  {
   "cell_type": "markdown",
   "metadata": {
    "id": "tQZxSTfNAY5T"
   },
   "source": [
    "\n",
    "### Model 1. Linear Regression"
   ]
  },
  {
   "cell_type": "code",
   "execution_count": 10,
   "metadata": {
    "id": "tqUdMUhttNL0"
   },
   "outputs": [],
   "source": [
    "#Load and declare a new instance \n",
    "from sklearn import linear_model\n",
    "regr = linear_model.LinearRegression()"
   ]
  },
  {
   "cell_type": "code",
   "execution_count": 11,
   "metadata": {
    "colab": {
     "base_uri": "https://localhost:8080/"
    },
    "id": "PyaY_YzU9oUY",
    "outputId": "c45efda8-e8aa-47c9-d8c0-e2fe0f824ee6"
   },
   "outputs": [
    {
     "data": {
      "text/html": [
       "<style>#sk-container-id-1 {color: black;}#sk-container-id-1 pre{padding: 0;}#sk-container-id-1 div.sk-toggleable {background-color: white;}#sk-container-id-1 label.sk-toggleable__label {cursor: pointer;display: block;width: 100%;margin-bottom: 0;padding: 0.3em;box-sizing: border-box;text-align: center;}#sk-container-id-1 label.sk-toggleable__label-arrow:before {content: \"▸\";float: left;margin-right: 0.25em;color: #696969;}#sk-container-id-1 label.sk-toggleable__label-arrow:hover:before {color: black;}#sk-container-id-1 div.sk-estimator:hover label.sk-toggleable__label-arrow:before {color: black;}#sk-container-id-1 div.sk-toggleable__content {max-height: 0;max-width: 0;overflow: hidden;text-align: left;background-color: #f0f8ff;}#sk-container-id-1 div.sk-toggleable__content pre {margin: 0.2em;color: black;border-radius: 0.25em;background-color: #f0f8ff;}#sk-container-id-1 input.sk-toggleable__control:checked~div.sk-toggleable__content {max-height: 200px;max-width: 100%;overflow: auto;}#sk-container-id-1 input.sk-toggleable__control:checked~label.sk-toggleable__label-arrow:before {content: \"▾\";}#sk-container-id-1 div.sk-estimator input.sk-toggleable__control:checked~label.sk-toggleable__label {background-color: #d4ebff;}#sk-container-id-1 div.sk-label input.sk-toggleable__control:checked~label.sk-toggleable__label {background-color: #d4ebff;}#sk-container-id-1 input.sk-hidden--visually {border: 0;clip: rect(1px 1px 1px 1px);clip: rect(1px, 1px, 1px, 1px);height: 1px;margin: -1px;overflow: hidden;padding: 0;position: absolute;width: 1px;}#sk-container-id-1 div.sk-estimator {font-family: monospace;background-color: #f0f8ff;border: 1px dotted black;border-radius: 0.25em;box-sizing: border-box;margin-bottom: 0.5em;}#sk-container-id-1 div.sk-estimator:hover {background-color: #d4ebff;}#sk-container-id-1 div.sk-parallel-item::after {content: \"\";width: 100%;border-bottom: 1px solid gray;flex-grow: 1;}#sk-container-id-1 div.sk-label:hover label.sk-toggleable__label {background-color: #d4ebff;}#sk-container-id-1 div.sk-serial::before {content: \"\";position: absolute;border-left: 1px solid gray;box-sizing: border-box;top: 0;bottom: 0;left: 50%;z-index: 0;}#sk-container-id-1 div.sk-serial {display: flex;flex-direction: column;align-items: center;background-color: white;padding-right: 0.2em;padding-left: 0.2em;position: relative;}#sk-container-id-1 div.sk-item {position: relative;z-index: 1;}#sk-container-id-1 div.sk-parallel {display: flex;align-items: stretch;justify-content: center;background-color: white;position: relative;}#sk-container-id-1 div.sk-item::before, #sk-container-id-1 div.sk-parallel-item::before {content: \"\";position: absolute;border-left: 1px solid gray;box-sizing: border-box;top: 0;bottom: 0;left: 50%;z-index: -1;}#sk-container-id-1 div.sk-parallel-item {display: flex;flex-direction: column;z-index: 1;position: relative;background-color: white;}#sk-container-id-1 div.sk-parallel-item:first-child::after {align-self: flex-end;width: 50%;}#sk-container-id-1 div.sk-parallel-item:last-child::after {align-self: flex-start;width: 50%;}#sk-container-id-1 div.sk-parallel-item:only-child::after {width: 0;}#sk-container-id-1 div.sk-dashed-wrapped {border: 1px dashed gray;margin: 0 0.4em 0.5em 0.4em;box-sizing: border-box;padding-bottom: 0.4em;background-color: white;}#sk-container-id-1 div.sk-label label {font-family: monospace;font-weight: bold;display: inline-block;line-height: 1.2em;}#sk-container-id-1 div.sk-label-container {text-align: center;}#sk-container-id-1 div.sk-container {/* jupyter's `normalize.less` sets `[hidden] { display: none; }` but bootstrap.min.css set `[hidden] { display: none !important; }` so we also need the `!important` here to be able to override the default hidden behavior on the sphinx rendered scikit-learn.org. See: https://github.com/scikit-learn/scikit-learn/issues/21755 */display: inline-block !important;position: relative;}#sk-container-id-1 div.sk-text-repr-fallback {display: none;}</style><div id=\"sk-container-id-1\" class=\"sk-top-container\"><div class=\"sk-text-repr-fallback\"><pre>LinearRegression()</pre><b>In a Jupyter environment, please rerun this cell to show the HTML representation or trust the notebook. <br />On GitHub, the HTML representation is unable to render, please try loading this page with nbviewer.org.</b></div><div class=\"sk-container\" hidden><div class=\"sk-item\"><div class=\"sk-estimator sk-toggleable\"><input class=\"sk-toggleable__control sk-hidden--visually\" id=\"sk-estimator-id-1\" type=\"checkbox\" checked><label for=\"sk-estimator-id-1\" class=\"sk-toggleable__label sk-toggleable__label-arrow\">LinearRegression</label><div class=\"sk-toggleable__content\"><pre>LinearRegression()</pre></div></div></div></div></div>"
      ],
      "text/plain": [
       "LinearRegression()"
      ]
     },
     "execution_count": 11,
     "metadata": {},
     "output_type": "execute_result"
    }
   ],
   "source": [
    "#Fit (train) the model \n",
    "\n",
    "regr.fit(X_train, y_train)"
   ]
  },
  {
   "cell_type": "code",
   "execution_count": 31,
   "metadata": {
    "colab": {
     "base_uri": "https://localhost:8080/"
    },
    "id": "cg00vSRf7hKm",
    "outputId": "3eab2687-9bd0-4291-eacf-070b4f2c6d1a"
   },
   "outputs": [
    {
     "name": "stdout",
     "output_type": "stream",
     "text": [
      "Coefficients: \n",
      " [940.39036797]\n",
      "Intercept: \n",
      " 153.59256052904135\n"
     ]
    }
   ],
   "source": [
    "#Look at the internal parameters of the model \n",
    "#type regr. you will see all the available data and functions\n",
    "print('Coefficients: \\n', regr.coef_)\n",
    "print('Intercept: \\n', regr.intercept_)\n",
    "# TODO: Explore other variables and methods of the LinearRegression class"
   ]
  },
  {
   "cell_type": "code",
   "execution_count": 13,
   "metadata": {
    "id": "Psq8bTAL9oCq"
   },
   "outputs": [],
   "source": [
    "#Make predictions (On the test set)\n",
    "y_pred = regr.predict(X_test)"
   ]
  },
  {
   "cell_type": "code",
   "execution_count": 14,
   "metadata": {
    "colab": {
     "base_uri": "https://localhost:8080/"
    },
    "id": "8bJhCgqX__rk",
    "outputId": "38fac089-87a2-424b-af94-781968090267"
   },
   "outputs": [
    {
     "name": "stdout",
     "output_type": "stream",
     "text": [
      "Mean squared error: 2884.23\n",
      "Variance score: 0.34\n"
     ]
    }
   ],
   "source": [
    "#Evaluate the performance\n",
    "from sklearn.metrics import mean_squared_error, r2_score\n",
    "print(\"Mean squared error: %.2f\" % mean_squared_error(y_test, y_pred))\n",
    "print('Variance score: %.2f' % r2_score(y_test, y_pred))"
   ]
  },
  {
   "cell_type": "code",
   "execution_count": 15,
   "metadata": {
    "colab": {
     "base_uri": "https://localhost:8080/",
     "height": 279
    },
    "id": "_jgPq4a-9po-",
    "outputId": "0fbe2e3a-587b-4672-f872-18800091bc6c"
   },
   "outputs": [
    {
     "data": {
      "image/png": "[encoded data removed]",
      "text/plain": [
       "<Figure size 640x480 with 1 Axes>"
      ]
     },
     "metadata": {},
     "output_type": "display_data"
    }
   ],
   "source": [
    "#Visualize the test data fit model for 1 feature (bmi)\n",
    "plt.scatter(X_train, y_train, color='blue')\n",
    "plt.scatter(X_test, y_test, color='red')\n",
    "plt.plot(X_test, y_pred, color='green', linewidth=3)\n",
    "plt.xlabel('bmi')\n",
    "plt.ylabel('diabetes progression')\n",
    "plt.show()"
   ]
  },
  {
   "cell_type": "markdown",
   "metadata": {
    "id": "0Uy3nUkjqdNl"
   },
   "source": [
    "## Model 2. Naive Bayes Classifier"
   ]
  },
  {
   "cell_type": "code",
   "execution_count": 16,
   "metadata": {
    "colab": {
     "base_uri": "https://localhost:8080/"
    },
    "id": "yEkGgcgUqn_K",
    "outputId": "7f43cd1f-9cb4-47c9-abfc-31bc1131249e"
   },
   "outputs": [
    {
     "name": "stdout",
     "output_type": "stream",
     "text": [
      "(228,)\n"
     ]
    }
   ],
   "source": [
    "from sklearn.naive_bayes import GaussianNB\n",
    "gnbClassifier = GaussianNB()\n",
    "gnbClassifier.fit(X2_train,y2_train)\n",
    "y2_pred_gnb = gnbClassifier.predict(X2_test)\n",
    "print(y2_pred_gnb.shape)"
   ]
  },
  {
   "cell_type": "code",
   "execution_count": 17,
   "metadata": {
    "colab": {
     "base_uri": "https://localhost:8080/"
    },
    "id": "a1uU7olRcdpM",
    "outputId": "994705df-3d6c-456f-c387-84871ffb6263"
   },
   "outputs": [
    {
     "name": "stdout",
     "output_type": "stream",
     "text": [
      "train accuracy 0.9384164222873901\n",
      "test accuracy 0.9517543859649122\n"
     ]
    }
   ],
   "source": [
    "#Compute accuracy on the training set\n",
    "train_accuracy = gnbClassifier.score(X2_train, y2_train)\n",
    "    \n",
    "#Compute accuracy on the test set\n",
    "test_accuracy = gnbClassifier.score(X2_test, y2_test) \n",
    "\n",
    "print('train accuracy', train_accuracy)\n",
    "print('test accuracy',test_accuracy)"
   ]
  },
  {
   "cell_type": "markdown",
   "metadata": {
    "id": "TMLpS4k1qZC0"
   },
   "source": [
    "## Model 3. K-Nearest Neighbors Classifier"
   ]
  },
  {
   "cell_type": "code",
   "execution_count": 18,
   "metadata": {
    "colab": {
     "base_uri": "https://localhost:8080/"
    },
    "id": "45Ma2BaVsqIF",
    "outputId": "0bc11d8f-bbd7-4345-bdcf-55b2a6c01a04"
   },
   "outputs": [
    {
     "name": "stdout",
     "output_type": "stream",
     "text": [
      "(228,)\n"
     ]
    }
   ],
   "source": [
    "from sklearn.neighbors import KNeighborsClassifier\n",
    "knnClassifier = KNeighborsClassifier(n_neighbors=10)\n",
    "knnClassifier.fit(X2_train, y2_train)\n",
    "y2_pred_knn = knnClassifier.predict(X2_test)\n",
    "print(y2_pred_knn.shape)"
   ]
  },
  {
   "cell_type": "code",
   "execution_count": 19,
   "metadata": {
    "colab": {
     "base_uri": "https://localhost:8080/"
    },
    "id": "EvDv8enObTc2",
    "outputId": "5da1ced3-2102-433e-a1ce-bee15980130a"
   },
   "outputs": [
    {
     "name": "stdout",
     "output_type": "stream",
     "text": [
      "train accuracy 0.9237536656891495\n",
      "test accuracy 0.9824561403508771\n"
     ]
    }
   ],
   "source": [
    "#Compute accuracy on the training set\n",
    "train_accuracy = knnClassifier.score(X2_train, y2_train)\n",
    "    \n",
    "#Compute accuracy on the test set\n",
    "test_accuracy = knnClassifier.score(X2_test, y2_test) \n",
    "\n",
    "print('train accuracy', train_accuracy)\n",
    "print('test accuracy',test_accuracy)"
   ]
  },
  {
   "cell_type": "markdown",
   "metadata": {
    "id": "iftgXOiztm1y"
   },
   "source": [
    "# QUESTIONS\n",
    "\n",
    "\n",
    "\n",
    "1.   For each model:\n",
    "\n",
    "*   What happens inside the fit function?\n",
    "*   What happens in the predict function?\n",
    "*   How is the chosen performance score computed?\n",
    "*   What criteria is being optimized?\n",
    "\n",
    "\n",
    "2.   For the **linear regression** example and keeping the size of the test set fixed, \n",
    "\n",
    "*   What is the effect on the (test) performance when we progressively increase the amount of training data? Try with a single feature at a time. Plot the score vs the number of training points and discuss. \n",
    "\n",
    "\n",
    "*   What is the effect of using other variables other than the  'bmi' during training?, try training and testing on other single features. Is it using more information always better? Progressively add new features to the data matrix. Plot the score vs the number of features\n",
    "\n",
    "3. Are the **Naive Bayes and the KNN Classifiers**  affected by scaling in the features? Use the ``standardScaler``\n",
    "from scikit learn ``from sklearn import preprocessing `` before the fit function and compare the results\n",
    "\n",
    "4. **Train/Test or Train/Val/Test** In the above examples, we have split each dataset into two subsets each. Are two subsets (train and test) enough for the three models (lin reg,  NaiveBayes,KNN,)? Answer for each model. Which models would benefit from having a validation set?\n",
    "\n",
    "5.   Repeat the KNN example, but splitting the dataset into three subsets(train,val,test). Progressively modify the hyperparameter k.  What is the best neighborhood size k?, what is the appropriate methodologogy to find this number? \n",
    "6.   How do we know if learning was really succesful (vs underfitting or overfitting?)\n",
    "\n",
    "8.   Naive Bayesian classifiers are probabilistic classifiers. How do we recover the probabilistic information associated to this model? What quantities can we recover?\n",
    "\n",
    "9.   For the **classification methods**:\n",
    "- Which are Discriminative? Generative?\n",
    "- Can the method deal with non-linearly separable data?\n",
    "- Is the method suitable for multiclass classification problems?\n",
    "\n",
    "\n",
    "\n",
    "**BONUS**\n",
    "Implement your own version of the three algorithms and compare the results to the built-in functions \n",
    "\n"
   ]
  },
  {
   "cell_type": "code",
   "execution_count": null,
   "metadata": {
    "id": "_F7mJZQlYhTX"
   },
   "outputs": [],
   "source": []
  }
 ],
 "metadata": {
  "colab": {
   "collapsed_sections": [],
   "provenance": []
  },
  "kernelspec": {
   "display_name": "Python 3 (ipykernel)",
   "language": "python",
   "name": "python3"
  },
  "language_info": {
   "codemirror_mode": {
    "name": "ipython",
    "version": 3
   },
   "file_extension": ".py",
   "mimetype": "text/x-python",
   "name": "python",
   "nbconvert_exporter": "python",
   "pygments_lexer": "ipython3",
   "version": "3.11.0"
  }
 },
 "nbformat": 4,
 "nbformat_minor": 4
}
